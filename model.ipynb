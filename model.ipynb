{
 "cells": [
  {
   "cell_type": "code",
   "execution_count": 53,
   "metadata": {
    "collapsed": true
   },
   "outputs": [],
   "source": [
    "# TODO\n",
    "# drop all complaints outside of date range 2011-2014\n",
    "# drop complaints that have no incident_date\n",
    "\n",
    "# convert all to numeric vals\n",
    "# "
   ]
  },
  {
   "cell_type": "code",
   "execution_count": 5,
   "metadata": {
    "collapsed": false
   },
   "outputs": [],
   "source": [
    "import pandas as pd\n",
    "\n",
    "FILES = [('allegations', 'data/allegations.csv'), ('cats', 'data/categories.csv'), ('comps', 'data/complainants.csv'),\n",
    "         ('history', 'data/history.csv'), \n",
    "         ('investigators', 'data/investigators.csv'), ('officers', 'data/officers.csv'), ('witnesses', 'data/witnesses.csv')]"
   ]
  },
  {
   "cell_type": "code",
   "execution_count": 81,
   "metadata": {
    "collapsed": false
   },
   "outputs": [
    {
     "name": "stderr",
     "output_type": "stream",
     "text": [
      "/Users/laurendyson/anaconda/lib/python3.4/site-packages/IPython/core/interactiveshell.py:2723: DtypeWarning: Columns (0) have mixed types. Specify dtype option on import or set low_memory=False.\n",
      "  interactivity=interactivity, compiler=compiler, result=result)\n"
     ]
    }
   ],
   "source": [
    "df_allegations = pd.read_csv('data/allegations.csv')\n",
    "df_cats = pd.read_csv('data/categories.csv')\n",
    "df_comps = pd.read_csv('data/categories.csv')\n",
    "df_history = pd.read_csv('data/history.csv')\n",
    "df_invs = pd.read_csv('data/investigators.csv')\n",
    "df_offs = pd.read_csv('data/officers.csv')\n",
    "df_witnesses = pd.read_csv('data/witnesses.csv')"
   ]
  },
  {
   "cell_type": "code",
   "execution_count": 60,
   "metadata": {
    "collapsed": false
   },
   "outputs": [
    {
     "data": {
      "text/plain": [
       "crid                       0\n",
       "officer_id              8070\n",
       "cat_id                 13605\n",
       "recc_finding           49553\n",
       "recc_outcome           39833\n",
       "finding_edit               0\n",
       "outcome_edit               0\n",
       "value                      0\n",
       "beat                   28653\n",
       "location               27799\n",
       "add1                   35259\n",
       "add2                   34771\n",
       "city                   34497\n",
       "incident_date          27796\n",
       "start_date             17082\n",
       "end_date               21397\n",
       "investigator_id        28433\n",
       "final_outcome_class        0\n",
       "dtype: int64"
      ]
     },
     "execution_count": 60,
     "metadata": {},
     "output_type": "execute_result"
    }
   ],
   "source": [
    "df_allegations.isnull().sum()"
   ]
  },
  {
   "cell_type": "code",
   "execution_count": 61,
   "metadata": {
    "collapsed": false
   },
   "outputs": [],
   "source": [
    "df_allegations_clean = df_allegations[df_allegations['incident_date'].notnull()]"
   ]
  },
  {
   "cell_type": "code",
   "execution_count": 96,
   "metadata": {
    "collapsed": false
   },
   "outputs": [],
   "source": [
    "df_allegations_clean['start_date_obj'] = pd.to_datetime(df_allegations_clean['start_date'], infer_datetime_format=True)"
   ]
  },
  {
   "cell_type": "code",
   "execution_count": 97,
   "metadata": {
    "collapsed": false
   },
   "outputs": [],
   "source": [
    "df_allegations_clean['end_date_obj'] = pd.to_datetime(df_allegations_clean['end_date'], infer_datetime_format=True)\n",
    "df_allegations_clean['incident_date_obj'] = pd.to_datetime(df_allegations_clean['incident_date'], infer_datetime_format=True)"
   ]
  },
  {
   "cell_type": "code",
   "execution_count": 101,
   "metadata": {
    "collapsed": false
   },
   "outputs": [
    {
     "data": {
      "text/plain": [
       "27796    2012\n",
       "27797    2013\n",
       "27798    2011\n",
       "27799    2011\n",
       "27800    2011\n",
       "27801    2012\n",
       "27802    2011\n",
       "27803    2011\n",
       "27804    2011\n",
       "27805    2012\n",
       "27806    2012\n",
       "27807    2012\n",
       "27808    2014\n",
       "27809    2013\n",
       "27810    2012\n",
       "27811    2011\n",
       "27812    2011\n",
       "27813    2012\n",
       "27814    2012\n",
       "27815    2013\n",
       "27816    2014\n",
       "27817    2012\n",
       "27818    2012\n",
       "27819    2012\n",
       "27820    2012\n",
       "27821    2013\n",
       "27822    2013\n",
       "27823    2014\n",
       "27824    2012\n",
       "27825    2012\n",
       "         ... \n",
       "56354    2015\n",
       "56355    2015\n",
       "56356    2015\n",
       "56357    2015\n",
       "56358    2015\n",
       "56359    2015\n",
       "56360    2015\n",
       "56361    2015\n",
       "56362    2015\n",
       "56363    2015\n",
       "56364    2015\n",
       "56365    2015\n",
       "56366    2015\n",
       "56367    2015\n",
       "56368    2015\n",
       "56369    2015\n",
       "56370    2015\n",
       "56371    2015\n",
       "56372    2015\n",
       "56373    2015\n",
       "56374    2015\n",
       "56375    2015\n",
       "56376    2015\n",
       "56377    2015\n",
       "56378    2015\n",
       "56379    2015\n",
       "56380    2015\n",
       "56381    2015\n",
       "56382    2015\n",
       "56383    2015\n",
       "Name: incident_date_obj, dtype: int64"
      ]
     },
     "execution_count": 101,
     "metadata": {},
     "output_type": "execute_result"
    }
   ],
   "source": [
    "df_allegations_clean['incident_date_obj'].dt.year"
   ]
  },
  {
   "cell_type": "code",
   "execution_count": 108,
   "metadata": {
    "collapsed": false
   },
   "outputs": [],
   "source": [
    "df_allegations_clean = df_allegations_clean[df_allegations_clean['incident_date_obj'].dt.year <= 2014]"
   ]
  },
  {
   "cell_type": "code",
   "execution_count": 109,
   "metadata": {
    "collapsed": true
   },
   "outputs": [],
   "source": [
    "df_allegations_clean = df_allegations_clean[df_allegations_clean['incident_date_obj'].dt.year >= 2011]"
   ]
  },
  {
   "cell_type": "code",
   "execution_count": 113,
   "metadata": {
    "collapsed": false
   },
   "outputs": [
    {
     "data": {
      "text/plain": [
       "array(['not-sustained', 'open-investigation', 'unknown', 'disciplined',\n",
       "       'sustained'], dtype=object)"
      ]
     },
     "execution_count": 113,
     "metadata": {},
     "output_type": "execute_result"
    }
   ],
   "source": [
    "df_allegations_clean['final_outcome_class'].unique()"
   ]
  },
  {
   "cell_type": "code",
   "execution_count": 150,
   "metadata": {
    "collapsed": true
   },
   "outputs": [],
   "source": [
    "import matplotlib.pyplot as plt\n",
    "import pipeline as pl\n",
    "\n",
    "OUTCOME_VAR = 'binary_outcome'\n",
    "INDEX_COL = 0\n",
    "\n",
    "%matplotlib inline"
   ]
  },
  {
   "cell_type": "code",
   "execution_count": 115,
   "metadata": {
    "collapsed": true
   },
   "outputs": [],
   "source": [
    "cols = list(df_allegations_clean.columns)\n",
    "features = [x for x in cols if x != OUTCOME_VAR]"
   ]
  },
  {
   "cell_type": "code",
   "execution_count": 146,
   "metadata": {
    "collapsed": false
   },
   "outputs": [
    {
     "data": {
      "text/plain": [
       "array(['not-sustained', 'open-investigation', 'unknown', 'disciplined',\n",
       "       'sustained'], dtype=object)"
      ]
     },
     "execution_count": 146,
     "metadata": {},
     "output_type": "execute_result"
    }
   ],
   "source": [
    "df_allegations_clean['final_outcome_class'].unique()"
   ]
  },
  {
   "cell_type": "code",
   "execution_count": 147,
   "metadata": {
    "collapsed": true
   },
   "outputs": [],
   "source": [
    "def binarize(x):\n",
    "    if x == 'sustained':\n",
    "        return 1\n",
    "    else:\n",
    "        return 0"
   ]
  },
  {
   "cell_type": "code",
   "execution_count": 148,
   "metadata": {
    "collapsed": true
   },
   "outputs": [],
   "source": [
    "df_allegations_clean['binary_outcome'] = df_allegations_clean['final_outcome_class'].apply(binarize)"
   ]
  },
  {
   "cell_type": "code",
   "execution_count": 149,
   "metadata": {
    "collapsed": false
   },
   "outputs": [
    {
     "data": {
      "text/plain": [
       "27796    0\n",
       "27797    0\n",
       "27798    0\n",
       "27799    0\n",
       "27800    0\n",
       "Name: binary_outcome, dtype: int64"
      ]
     },
     "execution_count": 149,
     "metadata": {},
     "output_type": "execute_result"
    }
   ],
   "source": [
    "df_allegations_clean['binary_outcome'].head()"
   ]
  },
  {
   "cell_type": "code",
   "execution_count": 151,
   "metadata": {
    "collapsed": true
   },
   "outputs": [],
   "source": [
    "X_train, X_test, y_train, y_test = pl.split_train_test(df_allegations_clean, f1, OUTCOME_VAR, .2)"
   ]
  },
  {
   "cell_type": "code",
   "execution_count": 152,
   "metadata": {
    "collapsed": true
   },
   "outputs": [],
   "source": [
    "f1 = ['recc_outcome', 'investigator_id', 'officer_id', 'beat']"
   ]
  },
  {
   "cell_type": "code",
   "execution_count": 140,
   "metadata": {
    "collapsed": true
   },
   "outputs": [],
   "source": [
    "df_allegations_clean['recc_outcome'].fillna(0,inplace=True)\n",
    "df_allegations_clean['investigator_id'].fillna(0,inplace=True)\n",
    "df_allegations_clean['officer_id'].fillna(0,inplace=True)\n",
    "df_allegations_clean['beat'].fillna(0,inplace=True)"
   ]
  },
  {
   "cell_type": "code",
   "execution_count": 141,
   "metadata": {
    "collapsed": false,
    "scrolled": true
   },
   "outputs": [
    {
     "name": "stdout",
     "output_type": "stream",
     "text": [
      "### Summary Statistics ###\n",
      "officer_id\n",
      "count    26150.000000\n",
      "mean      3277.409101\n",
      "std       2983.536204\n",
      "min          0.000000\n",
      "25%          0.000000\n",
      "50%       2784.500000\n",
      "75%       5934.000000\n",
      "max       8923.000000\n",
      "Name: officer_id, dtype: float64\n",
      "Null values: 0\n",
      "\n",
      "recc_outcome\n",
      "count    26150.000000\n",
      "mean       351.426233\n",
      "std        294.430951\n",
      "min          0.000000\n",
      "25%          0.000000\n",
      "50%        600.000000\n",
      "75%        600.000000\n",
      "max        800.000000\n",
      "Name: recc_outcome, dtype: float64\n",
      "Null values: 0\n",
      "\n",
      "beat\n",
      "count    26150.000000\n",
      "mean      1057.554226\n",
      "std        732.994866\n",
      "min          0.000000\n",
      "25%        513.000000\n",
      "50%        911.000000\n",
      "75%       1524.000000\n",
      "max       4100.000000\n",
      "Name: beat, dtype: float64\n",
      "Null values: 0\n",
      "\n",
      "add1\n",
      "count    19281.000000\n",
      "mean      4485.647010\n",
      "std       3063.203246\n",
      "min        100.000000\n",
      "25%       1702.000000\n",
      "50%       4200.000000\n",
      "75%       6735.000000\n",
      "max      20027.000000\n",
      "Name: add1, dtype: float64\n",
      "Null values: 6869\n",
      "\n",
      "investigator_id\n",
      "count    26150.000000\n",
      "mean       754.031969\n",
      "std        446.168027\n",
      "min          0.000000\n",
      "25%        356.000000\n",
      "50%        705.000000\n",
      "75%       1149.000000\n",
      "max       1509.000000\n",
      "Name: investigator_id, dtype: float64\n",
      "Null values: 0\n",
      "\n",
      "### Correlations ###\n",
      "### officer_id ###\n",
      "officer_id         1.000000\n",
      "recc_outcome       0.483607\n",
      "beat               0.008392\n",
      "add1              -0.009369\n",
      "investigator_id    0.008598\n",
      "Name: officer_id, dtype: float64\n",
      "\n",
      "### recc_outcome ###\n",
      "officer_id         0.483607\n",
      "recc_outcome       1.000000\n",
      "beat              -0.006081\n",
      "add1               0.024289\n",
      "investigator_id    0.016149\n",
      "Name: recc_outcome, dtype: float64\n",
      "\n",
      "### beat ###\n",
      "officer_id         0.008392\n",
      "recc_outcome      -0.006081\n",
      "beat               1.000000\n",
      "add1              -0.137911\n",
      "investigator_id   -0.028353\n",
      "Name: beat, dtype: float64\n",
      "\n",
      "### add1 ###\n",
      "officer_id        -0.009369\n",
      "recc_outcome       0.024289\n",
      "beat              -0.137911\n",
      "add1               1.000000\n",
      "investigator_id    0.078029\n",
      "Name: add1, dtype: float64\n",
      "\n",
      "### investigator_id ###\n",
      "officer_id         0.008598\n",
      "recc_outcome       0.016149\n",
      "beat              -0.028353\n",
      "add1               0.078029\n",
      "investigator_id    1.000000\n",
      "Name: investigator_id, dtype: float64\n",
      "\n"
     ]
    }
   ],
   "source": [
    "pl.explore_data(df_allegations_clean)"
   ]
  },
  {
   "cell_type": "code",
   "execution_count": 153,
   "metadata": {
    "collapsed": true
   },
   "outputs": [],
   "source": [
    "clfs,grid = pl.define_clfs_params()"
   ]
  },
  {
   "cell_type": "code",
   "execution_count": 154,
   "metadata": {
    "collapsed": true
   },
   "outputs": [],
   "source": [
    "clfs_to_try = ['LR']"
   ]
  },
  {
   "cell_type": "code",
   "execution_count": 155,
   "metadata": {
    "collapsed": false,
    "scrolled": true
   },
   "outputs": [
    {
     "name": "stdout",
     "output_type": "stream",
     "text": [
      "###\n",
      "LR\n",
      "###\n",
      "\n",
      "Time: 2s\n",
      "Accuracy: 0.99\n",
      "ROC/AUC Score: 0.5\n",
      "Classication Report:\n",
      "             precision    recall  f1-score   support\n",
      "\n",
      "          0       0.99      1.00      1.00      5191\n",
      "          1       0.00      0.00      0.00        39\n",
      "\n",
      "avg / total       0.99      0.99      0.99      5230\n",
      "\n",
      "\n"
     ]
    },
    {
     "name": "stderr",
     "output_type": "stream",
     "text": [
      "/Users/laurendyson/anaconda/lib/python3.4/site-packages/sklearn/metrics/classification.py:1074: UndefinedMetricWarning: Precision and F-score are ill-defined and being set to 0.0 in labels with no predicted samples.\n",
      "  'precision', 'predicted', average, warn_for)\n"
     ]
    },
    {
     "data": {
      "image/png": "[encoded data removed]",
      "text/plain": [
       "<matplotlib.figure.Figure at 0x113eaeef0>"
      ]
     },
     "metadata": {},
     "output_type": "display_data"
    }
   ],
   "source": [
    "results = pl.try_models(clfs_to_try,clfs,grid, X_train, y_train, X_test, y_test)"
   ]
  },
  {
   "cell_type": "code",
   "execution_count": 156,
   "metadata": {
    "collapsed": false
   },
   "outputs": [
    {
     "data": {
      "text/html": [
       "<div>\n",
       "<table border=\"1\" class=\"dataframe\">\n",
       "  <thead>\n",
       "    <tr style=\"text-align: right;\">\n",
       "      <th></th>\n",
       "      <th>crid</th>\n",
       "      <th>officer_id</th>\n",
       "      <th>cat_id</th>\n",
       "      <th>recc_finding</th>\n",
       "      <th>recc_outcome</th>\n",
       "      <th>finding_edit</th>\n",
       "      <th>outcome_edit</th>\n",
       "      <th>value</th>\n",
       "      <th>beat</th>\n",
       "      <th>location</th>\n",
       "      <th>...</th>\n",
       "      <th>city</th>\n",
       "      <th>incident_date</th>\n",
       "      <th>start_date</th>\n",
       "      <th>end_date</th>\n",
       "      <th>investigator_id</th>\n",
       "      <th>final_outcome_class</th>\n",
       "      <th>start_date_obj</th>\n",
       "      <th>end_date_obj</th>\n",
       "      <th>incident_date_obj</th>\n",
       "      <th>binary_outcome</th>\n",
       "    </tr>\n",
       "  </thead>\n",
       "  <tbody>\n",
       "    <tr>\n",
       "      <th>27796</th>\n",
       "      <td>1057642</td>\n",
       "      <td>1</td>\n",
       "      <td>10B</td>\n",
       "      <td>UN</td>\n",
       "      <td>600</td>\n",
       "      <td>Unfounded</td>\n",
       "      <td>Unsustained</td>\n",
       "      <td>0</td>\n",
       "      <td>114</td>\n",
       "      <td>11</td>\n",
       "      <td>...</td>\n",
       "      <td>CHICAGO IL</td>\n",
       "      <td>2012-10-07 07:30</td>\n",
       "      <td>2012-10-09</td>\n",
       "      <td>2013-05-16</td>\n",
       "      <td>1393</td>\n",
       "      <td>not-sustained</td>\n",
       "      <td>2012-10-09</td>\n",
       "      <td>2013-05-16</td>\n",
       "      <td>2012-10-07 07:30:00</td>\n",
       "      <td>0</td>\n",
       "    </tr>\n",
       "    <tr>\n",
       "      <th>27797</th>\n",
       "      <td>1063196</td>\n",
       "      <td>1</td>\n",
       "      <td>10U</td>\n",
       "      <td>NaN</td>\n",
       "      <td>600</td>\n",
       "      <td>No Affidavit</td>\n",
       "      <td>Unsustained</td>\n",
       "      <td>0</td>\n",
       "      <td>1423</td>\n",
       "      <td>17</td>\n",
       "      <td>...</td>\n",
       "      <td>CHICAGO IL</td>\n",
       "      <td>2013-06-29 19:00</td>\n",
       "      <td>2013-06-29</td>\n",
       "      <td>2013-08-14</td>\n",
       "      <td>1060</td>\n",
       "      <td>not-sustained</td>\n",
       "      <td>2013-06-29</td>\n",
       "      <td>2013-08-14</td>\n",
       "      <td>2013-06-29 19:00:00</td>\n",
       "      <td>0</td>\n",
       "    </tr>\n",
       "    <tr>\n",
       "      <th>27798</th>\n",
       "      <td>1047453</td>\n",
       "      <td>2</td>\n",
       "      <td>10V</td>\n",
       "      <td>NS</td>\n",
       "      <td>600</td>\n",
       "      <td>Not Sustained</td>\n",
       "      <td>Unsustained</td>\n",
       "      <td>0</td>\n",
       "      <td>1131</td>\n",
       "      <td>19</td>\n",
       "      <td>...</td>\n",
       "      <td>NaN</td>\n",
       "      <td>2011-06-24 17:00</td>\n",
       "      <td>2011-08-04</td>\n",
       "      <td>2012-07-30</td>\n",
       "      <td>583</td>\n",
       "      <td>not-sustained</td>\n",
       "      <td>2011-08-04</td>\n",
       "      <td>2012-07-30</td>\n",
       "      <td>2011-06-24 17:00:00</td>\n",
       "      <td>0</td>\n",
       "    </tr>\n",
       "    <tr>\n",
       "      <th>27799</th>\n",
       "      <td>1049623</td>\n",
       "      <td>2</td>\n",
       "      <td>05B</td>\n",
       "      <td>UN</td>\n",
       "      <td>600</td>\n",
       "      <td>Unfounded</td>\n",
       "      <td>Unsustained</td>\n",
       "      <td>0</td>\n",
       "      <td>1524</td>\n",
       "      <td>17</td>\n",
       "      <td>...</td>\n",
       "      <td>CHICAGO IL 60644</td>\n",
       "      <td>2011-10-27 16:00</td>\n",
       "      <td>2011-10-27</td>\n",
       "      <td>2012-07-06</td>\n",
       "      <td>275</td>\n",
       "      <td>not-sustained</td>\n",
       "      <td>2011-10-27</td>\n",
       "      <td>2012-07-06</td>\n",
       "      <td>2011-10-27 16:00:00</td>\n",
       "      <td>0</td>\n",
       "    </tr>\n",
       "    <tr>\n",
       "      <th>27800</th>\n",
       "      <td>1049701</td>\n",
       "      <td>2</td>\n",
       "      <td>06J</td>\n",
       "      <td>NS</td>\n",
       "      <td>600</td>\n",
       "      <td>Not Sustained</td>\n",
       "      <td>Unsustained</td>\n",
       "      <td>0</td>\n",
       "      <td>1513</td>\n",
       "      <td>17</td>\n",
       "      <td>...</td>\n",
       "      <td>CHICAGO IL 60644</td>\n",
       "      <td>2011-10-26 00:00</td>\n",
       "      <td>2011-10-31</td>\n",
       "      <td>2012-12-20</td>\n",
       "      <td>740</td>\n",
       "      <td>not-sustained</td>\n",
       "      <td>2011-10-31</td>\n",
       "      <td>2012-12-20</td>\n",
       "      <td>2011-10-26 00:00:00</td>\n",
       "      <td>0</td>\n",
       "    </tr>\n",
       "  </tbody>\n",
       "</table>\n",
       "<p>5 rows × 22 columns</p>\n",
       "</div>"
      ],
      "text/plain": [
       "          crid  officer_id cat_id recc_finding  recc_outcome   finding_edit  \\\n",
       "27796  1057642           1    10B           UN           600      Unfounded   \n",
       "27797  1063196           1    10U          NaN           600   No Affidavit   \n",
       "27798  1047453           2    10V           NS           600  Not Sustained   \n",
       "27799  1049623           2    05B           UN           600      Unfounded   \n",
       "27800  1049701           2    06J           NS           600  Not Sustained   \n",
       "\n",
       "      outcome_edit value  beat location      ...                    city  \\\n",
       "27796  Unsustained     0   114       11      ...              CHICAGO IL   \n",
       "27797  Unsustained     0  1423       17      ...              CHICAGO IL   \n",
       "27798  Unsustained     0  1131       19      ...                     NaN   \n",
       "27799  Unsustained     0  1524       17      ...        CHICAGO IL 60644   \n",
       "27800  Unsustained     0  1513       17      ...        CHICAGO IL 60644   \n",
       "\n",
       "          incident_date  start_date    end_date investigator_id  \\\n",
       "27796  2012-10-07 07:30  2012-10-09  2013-05-16            1393   \n",
       "27797  2013-06-29 19:00  2013-06-29  2013-08-14            1060   \n",
       "27798  2011-06-24 17:00  2011-08-04  2012-07-30             583   \n",
       "27799  2011-10-27 16:00  2011-10-27  2012-07-06             275   \n",
       "27800  2011-10-26 00:00  2011-10-31  2012-12-20             740   \n",
       "\n",
       "      final_outcome_class  start_date_obj end_date_obj   incident_date_obj  \\\n",
       "27796       not-sustained      2012-10-09   2013-05-16 2012-10-07 07:30:00   \n",
       "27797       not-sustained      2013-06-29   2013-08-14 2013-06-29 19:00:00   \n",
       "27798       not-sustained      2011-08-04   2012-07-30 2011-06-24 17:00:00   \n",
       "27799       not-sustained      2011-10-27   2012-07-06 2011-10-27 16:00:00   \n",
       "27800       not-sustained      2011-10-31   2012-12-20 2011-10-26 00:00:00   \n",
       "\n",
       "      binary_outcome  \n",
       "27796              0  \n",
       "27797              0  \n",
       "27798              0  \n",
       "27799              0  \n",
       "27800              0  \n",
       "\n",
       "[5 rows x 22 columns]"
      ]
     },
     "execution_count": 156,
     "metadata": {},
     "output_type": "execute_result"
    }
   ],
   "source": [
    "df_allegations_clean.head()"
   ]
  }
 ],
 "metadata": {
  "kernelspec": {
   "display_name": "Python 3",
   "language": "python",
   "name": "python3"
  },
  "language_info": {
   "codemirror_mode": {
    "name": "ipython",
    "version": 3
   },
   "file_extension": ".py",
   "mimetype": "text/x-python",
   "name": "python",
   "nbconvert_exporter": "python",
   "pygments_lexer": "ipython3",
   "version": "3.4.4"
  }
 },
 "nbformat": 4,
 "nbformat_minor": 0
}
