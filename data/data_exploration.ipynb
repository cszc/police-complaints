{
 "cells": [
  {
   "cell_type": "code",
   "execution_count": 1,
   "metadata": {
    "collapsed": true
   },
   "outputs": [],
   "source": [
    "import pandas as pd"
   ]
  },
  {
   "cell_type": "code",
   "execution_count": 11,
   "metadata": {
    "collapsed": false
   },
   "outputs": [],
   "source": [
    "df = pd.read_csv('allegations_clean.csv')"
   ]
  },
  {
   "cell_type": "code",
   "execution_count": 25,
   "metadata": {
    "collapsed": false
   },
   "outputs": [
    {
     "data": {
      "text/plain": [
       "crid                   26150\n",
       "officer_id             26150\n",
       "cat_id                 17241\n",
       "recc_finding            6718\n",
       "recc_outcome           16005\n",
       "finding_edit           26150\n",
       "outcome_edit           26150\n",
       "value                  26150\n",
       "beat                   25388\n",
       "location               26147\n",
       "add1                   19281\n",
       "add2                   19733\n",
       "city                   19951\n",
       "incident_date          26150\n",
       "start_date             26150\n",
       "end_date               23710\n",
       "investigator_id        26150\n",
       "final_outcome_class    26150\n",
       "dtype: int64"
      ]
     },
     "execution_count": 25,
     "metadata": {},
     "output_type": "execute_result"
    }
   ],
   "source": [
    "df.notnull().sum()"
   ]
  },
  {
   "cell_type": "code",
   "execution_count": 32,
   "metadata": {
    "collapsed": false,
    "scrolled": true
   },
   "outputs": [],
   "source": [
    "allegations_w_addresses = df[df['city'].notnull() & df['add1'].notnull() & df['add2'].notnull()]"
   ]
  },
  {
   "cell_type": "code",
   "execution_count": 36,
   "metadata": {
    "collapsed": false
   },
   "outputs": [],
   "source": [
    "allegations_w_addresses.to_csv('allegations_addresses.csv')"
   ]
  },
  {
   "cell_type": "code",
   "execution_count": 37,
   "metadata": {
    "collapsed": false
   },
   "outputs": [
    {
     "data": {
      "text/html": [
       "<div>\n",
       "<table border=\"1\" class=\"dataframe\">\n",
       "  <thead>\n",
       "    <tr style=\"text-align: right;\">\n",
       "      <th></th>\n",
       "      <th>crid</th>\n",
       "      <th>officer_id</th>\n",
       "      <th>recc_outcome</th>\n",
       "      <th>beat</th>\n",
       "      <th>add1</th>\n",
       "      <th>investigator_id</th>\n",
       "    </tr>\n",
       "  </thead>\n",
       "  <tbody>\n",
       "    <tr>\n",
       "      <th>count</th>\n",
       "      <td>1.916300e+04</td>\n",
       "      <td>19163.000000</td>\n",
       "      <td>11576.000000</td>\n",
       "      <td>18982.000000</td>\n",
       "      <td>19163.000000</td>\n",
       "      <td>19163.000000</td>\n",
       "    </tr>\n",
       "    <tr>\n",
       "      <th>mean</th>\n",
       "      <td>1.068798e+06</td>\n",
       "      <td>3266.651307</td>\n",
       "      <td>570.172167</td>\n",
       "      <td>1076.796755</td>\n",
       "      <td>4490.754370</td>\n",
       "      <td>767.646872</td>\n",
       "    </tr>\n",
       "    <tr>\n",
       "      <th>std</th>\n",
       "      <td>7.959139e+05</td>\n",
       "      <td>2996.934501</td>\n",
       "      <td>125.469693</td>\n",
       "      <td>698.701224</td>\n",
       "      <td>3058.223596</td>\n",
       "      <td>440.919901</td>\n",
       "    </tr>\n",
       "    <tr>\n",
       "      <th>min</th>\n",
       "      <td>1.073320e+05</td>\n",
       "      <td>0.000000</td>\n",
       "      <td>0.000000</td>\n",
       "      <td>111.000000</td>\n",
       "      <td>100.000000</td>\n",
       "      <td>0.000000</td>\n",
       "    </tr>\n",
       "    <tr>\n",
       "      <th>25%</th>\n",
       "      <td>1.051742e+06</td>\n",
       "      <td>0.000000</td>\n",
       "      <td>600.000000</td>\n",
       "      <td>531.000000</td>\n",
       "      <td>1713.000000</td>\n",
       "      <td>383.000000</td>\n",
       "    </tr>\n",
       "    <tr>\n",
       "      <th>50%</th>\n",
       "      <td>1.059268e+06</td>\n",
       "      <td>2756.000000</td>\n",
       "      <td>600.000000</td>\n",
       "      <td>915.000000</td>\n",
       "      <td>4209.000000</td>\n",
       "      <td>740.000000</td>\n",
       "    </tr>\n",
       "    <tr>\n",
       "      <th>75%</th>\n",
       "      <td>1.066710e+06</td>\n",
       "      <td>5948.500000</td>\n",
       "      <td>600.000000</td>\n",
       "      <td>1531.000000</td>\n",
       "      <td>6746.000000</td>\n",
       "      <td>1156.000000</td>\n",
       "    </tr>\n",
       "    <tr>\n",
       "      <th>max</th>\n",
       "      <td>1.064519e+08</td>\n",
       "      <td>8922.000000</td>\n",
       "      <td>600.000000</td>\n",
       "      <td>4100.000000</td>\n",
       "      <td>19900.000000</td>\n",
       "      <td>1509.000000</td>\n",
       "    </tr>\n",
       "  </tbody>\n",
       "</table>\n",
       "</div>"
      ],
      "text/plain": [
       "               crid    officer_id  recc_outcome          beat          add1  \\\n",
       "count  1.916300e+04  19163.000000  11576.000000  18982.000000  19163.000000   \n",
       "mean   1.068798e+06   3266.651307    570.172167   1076.796755   4490.754370   \n",
       "std    7.959139e+05   2996.934501    125.469693    698.701224   3058.223596   \n",
       "min    1.073320e+05      0.000000      0.000000    111.000000    100.000000   \n",
       "25%    1.051742e+06      0.000000    600.000000    531.000000   1713.000000   \n",
       "50%    1.059268e+06   2756.000000    600.000000    915.000000   4209.000000   \n",
       "75%    1.066710e+06   5948.500000    600.000000   1531.000000   6746.000000   \n",
       "max    1.064519e+08   8922.000000    600.000000   4100.000000  19900.000000   \n",
       "\n",
       "       investigator_id  \n",
       "count     19163.000000  \n",
       "mean        767.646872  \n",
       "std         440.919901  \n",
       "min           0.000000  \n",
       "25%         383.000000  \n",
       "50%         740.000000  \n",
       "75%        1156.000000  \n",
       "max        1509.000000  "
      ]
     },
     "execution_count": 37,
     "metadata": {},
     "output_type": "execute_result"
    }
   ],
   "source": [
    "allegations_w_addresses.describe()"
   ]
  },
  {
   "cell_type": "code",
   "execution_count": 16,
   "metadata": {
    "collapsed": true
   },
   "outputs": [],
   "source": [
    "df['investigator_id'].fillna(0,inplace=True)"
   ]
  },
  {
   "cell_type": "code",
   "execution_count": 18,
   "metadata": {
    "collapsed": false
   },
   "outputs": [
    {
     "data": {
      "text/html": [
       "<div>\n",
       "<table border=\"1\" class=\"dataframe\">\n",
       "  <thead>\n",
       "    <tr style=\"text-align: right;\">\n",
       "      <th></th>\n",
       "      <th>crid</th>\n",
       "      <th>officer_id</th>\n",
       "      <th>cat_id</th>\n",
       "      <th>recc_finding</th>\n",
       "      <th>recc_outcome</th>\n",
       "      <th>finding_edit</th>\n",
       "      <th>outcome_edit</th>\n",
       "      <th>value</th>\n",
       "      <th>beat</th>\n",
       "      <th>location</th>\n",
       "      <th>add1</th>\n",
       "      <th>add2</th>\n",
       "      <th>city</th>\n",
       "      <th>incident_date</th>\n",
       "      <th>start_date</th>\n",
       "      <th>end_date</th>\n",
       "      <th>investigator_id</th>\n",
       "      <th>final_outcome_class</th>\n",
       "    </tr>\n",
       "  </thead>\n",
       "  <tbody>\n",
       "    <tr>\n",
       "      <th>0</th>\n",
       "      <td>1057642</td>\n",
       "      <td>1</td>\n",
       "      <td>10B</td>\n",
       "      <td>UN</td>\n",
       "      <td>600</td>\n",
       "      <td>Unfounded</td>\n",
       "      <td>Unsustained</td>\n",
       "      <td>0</td>\n",
       "      <td>114</td>\n",
       "      <td>11</td>\n",
       "      <td>100</td>\n",
       "      <td>S COLUMBUS DR</td>\n",
       "      <td>CHICAGO IL</td>\n",
       "      <td>2012-10-07 07:30:00</td>\n",
       "      <td>2012-10-09</td>\n",
       "      <td>2013-05-16</td>\n",
       "      <td>1393</td>\n",
       "      <td>not-sustained</td>\n",
       "    </tr>\n",
       "    <tr>\n",
       "      <th>1</th>\n",
       "      <td>1063196</td>\n",
       "      <td>1</td>\n",
       "      <td>10U</td>\n",
       "      <td>NaN</td>\n",
       "      <td>600</td>\n",
       "      <td>No Affidavit</td>\n",
       "      <td>Unsustained</td>\n",
       "      <td>0</td>\n",
       "      <td>1423</td>\n",
       "      <td>17</td>\n",
       "      <td>1446</td>\n",
       "      <td>N TALMAN AVE</td>\n",
       "      <td>CHICAGO IL</td>\n",
       "      <td>2013-06-29 19:00:00</td>\n",
       "      <td>2013-06-29</td>\n",
       "      <td>2013-08-14</td>\n",
       "      <td>1060</td>\n",
       "      <td>not-sustained</td>\n",
       "    </tr>\n",
       "    <tr>\n",
       "      <th>2</th>\n",
       "      <td>1047453</td>\n",
       "      <td>2</td>\n",
       "      <td>10V</td>\n",
       "      <td>NS</td>\n",
       "      <td>600</td>\n",
       "      <td>Not Sustained</td>\n",
       "      <td>Unsustained</td>\n",
       "      <td>0</td>\n",
       "      <td>1131</td>\n",
       "      <td>19</td>\n",
       "      <td>NaN</td>\n",
       "      <td>NaN</td>\n",
       "      <td>NaN</td>\n",
       "      <td>2011-06-24 17:00:00</td>\n",
       "      <td>2011-08-04</td>\n",
       "      <td>2012-07-30</td>\n",
       "      <td>583</td>\n",
       "      <td>not-sustained</td>\n",
       "    </tr>\n",
       "    <tr>\n",
       "      <th>3</th>\n",
       "      <td>1049623</td>\n",
       "      <td>2</td>\n",
       "      <td>05B</td>\n",
       "      <td>UN</td>\n",
       "      <td>600</td>\n",
       "      <td>Unfounded</td>\n",
       "      <td>Unsustained</td>\n",
       "      <td>0</td>\n",
       "      <td>1524</td>\n",
       "      <td>17</td>\n",
       "      <td>5200</td>\n",
       "      <td>W HURON ST</td>\n",
       "      <td>CHICAGO IL 60644</td>\n",
       "      <td>2011-10-27 16:00:00</td>\n",
       "      <td>2011-10-27</td>\n",
       "      <td>2012-07-06</td>\n",
       "      <td>275</td>\n",
       "      <td>not-sustained</td>\n",
       "    </tr>\n",
       "    <tr>\n",
       "      <th>4</th>\n",
       "      <td>1049701</td>\n",
       "      <td>2</td>\n",
       "      <td>06J</td>\n",
       "      <td>NS</td>\n",
       "      <td>600</td>\n",
       "      <td>Not Sustained</td>\n",
       "      <td>Unsustained</td>\n",
       "      <td>0</td>\n",
       "      <td>1513</td>\n",
       "      <td>17</td>\n",
       "      <td>5601</td>\n",
       "      <td>W MADISON ST</td>\n",
       "      <td>CHICAGO IL 60644</td>\n",
       "      <td>2011-10-26 00:00:00</td>\n",
       "      <td>2011-10-31</td>\n",
       "      <td>2012-12-20</td>\n",
       "      <td>740</td>\n",
       "      <td>not-sustained</td>\n",
       "    </tr>\n",
       "  </tbody>\n",
       "</table>\n",
       "</div>"
      ],
      "text/plain": [
       "      crid  officer_id cat_id recc_finding  recc_outcome   finding_edit  \\\n",
       "0  1057642           1    10B           UN           600      Unfounded   \n",
       "1  1063196           1    10U          NaN           600   No Affidavit   \n",
       "2  1047453           2    10V           NS           600  Not Sustained   \n",
       "3  1049623           2    05B           UN           600      Unfounded   \n",
       "4  1049701           2    06J           NS           600  Not Sustained   \n",
       "\n",
       "  outcome_edit value  beat location  add1           add2              city  \\\n",
       "0  Unsustained     0   114       11   100  S COLUMBUS DR        CHICAGO IL   \n",
       "1  Unsustained     0  1423       17  1446   N TALMAN AVE        CHICAGO IL   \n",
       "2  Unsustained     0  1131       19   NaN            NaN               NaN   \n",
       "3  Unsustained     0  1524       17  5200     W HURON ST  CHICAGO IL 60644   \n",
       "4  Unsustained     0  1513       17  5601   W MADISON ST  CHICAGO IL 60644   \n",
       "\n",
       "         incident_date  start_date    end_date  investigator_id  \\\n",
       "0  2012-10-07 07:30:00  2012-10-09  2013-05-16             1393   \n",
       "1  2013-06-29 19:00:00  2013-06-29  2013-08-14             1060   \n",
       "2  2011-06-24 17:00:00  2011-08-04  2012-07-30              583   \n",
       "3  2011-10-27 16:00:00  2011-10-27  2012-07-06              275   \n",
       "4  2011-10-26 00:00:00  2011-10-31  2012-12-20              740   \n",
       "\n",
       "  final_outcome_class  \n",
       "0       not-sustained  \n",
       "1       not-sustained  \n",
       "2       not-sustained  \n",
       "3       not-sustained  \n",
       "4       not-sustained  "
      ]
     },
     "execution_count": 18,
     "metadata": {},
     "output_type": "execute_result"
    }
   ],
   "source": [
    "df.head()"
   ]
  }
 ],
 "metadata": {
  "kernelspec": {
   "display_name": "Python 3",
   "language": "python",
   "name": "python3"
  },
  "language_info": {
   "codemirror_mode": {
    "name": "ipython",
    "version": 3
   },
   "file_extension": ".py",
   "mimetype": "text/x-python",
   "name": "python",
   "nbconvert_exporter": "python",
   "pygments_lexer": "ipython3",
   "version": "3.4.4"
  }
 },
 "nbformat": 4,
 "nbformat_minor": 0
}
